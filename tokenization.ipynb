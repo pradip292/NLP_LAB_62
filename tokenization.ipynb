{
 "cells": [
  {
   "cell_type": "code",
   "execution_count": 1,
   "metadata": {},
   "outputs": [
    {
     "data": {
      "text/plain": [
       "<spacy.lang.en.English at 0x21dab820730>"
      ]
     },
     "execution_count": 1,
     "metadata": {},
     "output_type": "execute_result"
    }
   ],
   "source": [
    "#Using spacy to load the model\n",
    "import spacy\n",
    "nlp = spacy.load(\"en_core_web_sm\")"
   ]
  },
  {
   "cell_type": "code",
   "execution_count": 2,
   "metadata": {},
   "outputs": [
    {
     "data": {
      "text/plain": [
       "['This',\n",
       " 'tutorial',\n",
       " 'is',\n",
       " 'about',\n",
       " 'Natural',\n",
       " 'Language',\n",
       " 'Processing',\n",
       " 'in',\n",
       " 'spaCy',\n",
       " '.']"
      ]
     },
     "execution_count": 2,
     "metadata": {},
     "output_type": "execute_result"
    }
   ],
   "source": [
    "# Create a Doc object\n",
    "introduction_do = nlp(\n",
    "    \"This tutorial is about Natural Language Processing in spaCy.\"\n",
    ")\n",
    "type(introduction_do)\n",
    "\n",
    "\n",
    "[token.text for token in introduction_do]"
   ]
  },
  {
   "cell_type": "code",
   "execution_count": 3,
   "metadata": {},
   "outputs": [
    {
     "name": "stdout",
     "output_type": "stream",
     "text": [
      "['The', 'shimmering', 'moonlight', 'danced', 'across', 'the', 'tranquil', 'lake', ',', 'casting', 'ethereal', 'reflections', 'on', 'the', 'water', \"'s\", 'surface', '.', 'Whispers', 'of', 'the', 'night', 'breeze', 'rustled', 'through', 'the', 'tall', 'pines', ',', 'creating', 'a', 'symphony', 'of', 'nature', \"'s\", 'lullaby', '.', 'Fireflies', 'flickered', 'like', 'stars', ',', 'weaving', 'a', 'tapestry', 'of', 'light', '.', 'A', 'sense', 'of', 'peace', 'enveloped', 'the', 'forest', ',', 'serene', 'and', 'timeless', 'danced', '.']\n"
     ]
    }
   ],
   "source": [
    "# Load a text file and convert it to a spaCy document\n",
    "import pathlib\n",
    "file_name = \"textfile.txt\"\n",
    "introduction_doc = nlp(pathlib.Path(file_name).read_text(encoding=\"utf-8\"))\n",
    "print ([token.text for token in introduction_doc])"
   ]
  },
  {
   "cell_type": "code",
   "execution_count": 4,
   "metadata": {},
   "outputs": [
    {
     "name": "stdout",
     "output_type": "stream",
     "text": [
      "The 0\n",
      "shimmering 4\n",
      "moonlight 15\n",
      "danced 25\n",
      "across 32\n",
      "the 39\n",
      "tranquil 43\n",
      "lake 52\n",
      ", 56\n",
      "casting 58\n",
      "ethereal 66\n",
      "reflections 75\n",
      "on 87\n",
      "the 90\n",
      "water 94\n",
      "'s 99\n",
      "surface 102\n",
      ". 109\n",
      "Whispers 111\n",
      "of 120\n",
      "the 123\n",
      "night 127\n",
      "breeze 133\n",
      "rustled 140\n",
      "through 148\n",
      "the 156\n",
      "tall 160\n",
      "pines 165\n",
      ", 170\n",
      "creating 172\n",
      "a 181\n",
      "symphony 183\n",
      "of 192\n",
      "nature 195\n",
      "'s 201\n",
      "lullaby 204\n",
      ". 211\n",
      "Fireflies 213\n",
      "flickered 223\n",
      "like 233\n",
      "stars 238\n",
      ", 243\n",
      "weaving 245\n",
      "a 253\n",
      "tapestry 255\n",
      "of 264\n",
      "light 267\n",
      ". 272\n",
      "A 274\n",
      "sense 276\n",
      "of 282\n",
      "peace 285\n",
      "enveloped 291\n",
      "the 301\n",
      "forest 305\n",
      ", 311\n",
      "serene 313\n",
      "and 320\n",
      "timeless 324\n",
      "danced 333\n",
      ". 339\n"
     ]
    }
   ],
   "source": [
    "# Tokenization\n",
    "for token in introduction_doc:\n",
    "    print (token, token.idx)"
   ]
  },
  {
   "cell_type": "code",
   "execution_count": 5,
   "metadata": {},
   "outputs": [
    {
     "name": "stdout",
     "output_type": "stream",
     "text": [
      "326\n",
      "hereafter\n",
      "part\n",
      "take\n",
      "however\n",
      "even\n",
      "such\n",
      "neither\n",
      "across\n",
      "say\n",
      "several\n"
     ]
    }
   ],
   "source": [
    "#Stop Words Removal\n",
    "\n",
    "spacy_stopwords = spacy.lang.en.stop_words.STOP_WORDS\n",
    "print(len(spacy_stopwords))\n",
    "\n",
    "for stop_word in list(spacy_stopwords)[:10]:\n",
    "    print(stop_word)"
   ]
  },
  {
   "cell_type": "code",
   "execution_count": 6,
   "metadata": {},
   "outputs": [
    {
     "name": "stdout",
     "output_type": "stream",
     "text": [
      "[shimmering, moonlight, danced, tranquil, lake, ,, casting, ethereal, reflections, water, surface, ., Whispers, night, breeze, rustled, tall, pines, ,, creating, symphony, nature, lullaby, ., Fireflies, flickered, like, stars, ,, weaving, tapestry, light, ., sense, peace, enveloped, forest, ,, serene, timeless, danced, .]\n"
     ]
    }
   ],
   "source": [
    "#Stop Words Removal\n",
    "filtered_tokens = [token for token in introduction_doc if not token.is_stop]\n",
    "print(filtered_tokens)\n"
   ]
  },
  {
   "cell_type": "code",
   "execution_count": 7,
   "metadata": {},
   "outputs": [
    {
     "name": "stdout",
     "output_type": "stream",
     "text": [
      "          shimmering : shimmering\n",
      "           moonlight : moonlight\n",
      "              danced : dance\n",
      "            tranquil : tranquil\n",
      "                lake : lake\n",
      "                   , : ,\n",
      "             casting : cast\n",
      "            ethereal : ethereal\n",
      "         reflections : reflection\n",
      "               water : water\n",
      "             surface : surface\n",
      "                   . : .\n",
      "            Whispers : whisper\n",
      "               night : night\n",
      "              breeze : breeze\n",
      "             rustled : rustle\n",
      "                tall : tall\n",
      "               pines : pine\n",
      "                   , : ,\n",
      "            creating : create\n",
      "            symphony : symphony\n",
      "              nature : nature\n",
      "             lullaby : lullaby\n",
      "                   . : .\n",
      "           Fireflies : firefly\n",
      "           flickered : flicker\n",
      "                like : like\n",
      "               stars : star\n",
      "                   , : ,\n",
      "             weaving : weave\n",
      "            tapestry : tapestry\n",
      "               light : light\n",
      "                   . : .\n",
      "               sense : sense\n",
      "               peace : peace\n",
      "           enveloped : envelop\n",
      "              forest : forest\n",
      "                   , : ,\n",
      "              serene : serene\n",
      "            timeless : timeless\n",
      "              danced : dance\n",
      "                   . : .\n"
     ]
    }
   ],
   "source": [
    "#leminization\n",
    "for token in filtered_tokens:\n",
    "    # if str(token) != str(token.lemma_):\n",
    "    print(f\"{str(token):>20} : {str(token.lemma_)}\")"
   ]
  },
  {
   "cell_type": "code",
   "execution_count": 9,
   "metadata": {},
   "outputs": [
    {
     "name": "stdout",
     "output_type": "stream",
     "text": [
      "[('danced', 2), ('shimmering', 1), ('moonlight', 1), ('tranquil', 1), ('lake', 1), ('casting', 1), ('ethereal', 1), ('reflections', 1), ('water', 1), ('surface', 1), ('Whispers', 1), ('night', 1), ('breeze', 1), ('rustled', 1), ('tall', 1), ('pines', 1), ('creating', 1), ('symphony', 1), ('nature', 1), ('lullaby', 1), ('Fireflies', 1), ('flickered', 1), ('like', 1), ('stars', 1), ('weaving', 1), ('tapestry', 1), ('light', 1), ('sense', 1), ('peace', 1), ('enveloped', 1), ('forest', 1), ('serene', 1), ('timeless', 1)]\n"
     ]
    }
   ],
   "source": [
    "from typing import Counter\n",
    "\n",
    "\n",
    "words = [\n",
    "    token.text\n",
    "    for token in filtered_tokens\n",
    "    if not token.is_stop and not token.is_punct\n",
    "]\n",
    "\n",
    "print(Counter(words).most_common())"
   ]
  },
  {
   "cell_type": "code",
   "execution_count": null,
   "metadata": {},
   "outputs": [],
   "source": []
  }
 ],
 "metadata": {
  "kernelspec": {
   "display_name": "python",
   "language": "python",
   "name": "python3"
  },
  "language_info": {
   "codemirror_mode": {
    "name": "ipython",
    "version": 3
   },
   "file_extension": ".py",
   "mimetype": "text/x-python",
   "name": "python",
   "nbconvert_exporter": "python",
   "pygments_lexer": "ipython3",
   "version": "3.10.8"
  }
 },
 "nbformat": 4,
 "nbformat_minor": 2
}
