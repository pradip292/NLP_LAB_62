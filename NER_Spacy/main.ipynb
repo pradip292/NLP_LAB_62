{
 "cells": [
  {
   "cell_type": "code",
   "execution_count": 1,
   "metadata": {},
   "outputs": [
    {
     "name": "stdout",
     "output_type": "stream",
     "text": [
      "Pradip\n"
     ]
    }
   ],
   "source": [
    "print(\"Pradip\")"
   ]
  },
  {
   "cell_type": "code",
   "execution_count": 2,
   "metadata": {},
   "outputs": [
    {
     "name": "stdout",
     "output_type": "stream",
     "text": [
      "\n",
      "    ent.text = 'September 25, 2024'\n",
      "    ent.start_char = 3\n",
      "    ent.end_char = 21\n",
      "    ent.label_ = 'DATE'\n",
      "    spacy.explain('DATE') = Absolute or relative dates or periods\n",
      "\n",
      "    ent.text = 'Apple Inc.'\n",
      "    ent.start_char = 23\n",
      "    ent.end_char = 33\n",
      "    ent.label_ = 'ORG'\n",
      "    spacy.explain('ORG') = Companies, agencies, institutions, etc.\n",
      "\n",
      "    ent.text = 'Tim Cook'\n",
      "    ent.start_char = 38\n",
      "    ent.end_char = 46\n",
      "    ent.label_ = 'PERSON'\n",
      "    spacy.explain('PERSON') = People, including fictional\n",
      "\n",
      "    ent.text = 'San Francisco'\n",
      "    ent.start_char = 60\n",
      "    ent.end_char = 73\n",
      "    ent.label_ = 'GPE'\n",
      "    spacy.explain('GPE') = Countries, cities, states\n",
      "\n",
      "    ent.text = 'California'\n",
      "    ent.start_char = 75\n",
      "    ent.end_char = 85\n",
      "    ent.label_ = 'GPE'\n",
      "    spacy.explain('GPE') = Countries, cities, states\n",
      "\n",
      "    ent.text = 'Google'\n",
      "    ent.start_char = 106\n",
      "    ent.end_char = 112\n",
      "    ent.label_ = 'ORG'\n",
      "    spacy.explain('ORG') = Companies, agencies, institutions, etc.\n",
      "\n",
      "    ent.text = 'AI'\n",
      "    ent.start_char = 124\n",
      "    ent.end_char = 126\n",
      "    ent.label_ = 'ORG'\n",
      "    spacy.explain('ORG') = Companies, agencies, institutions, etc.\n",
      "\n",
      "    ent.text = 'New York'\n",
      "    ent.start_char = 194\n",
      "    ent.end_char = 202\n",
      "    ent.label_ = 'GPE'\n",
      "    spacy.explain('GPE') = Countries, cities, states\n",
      "\n",
      "    ent.text = 'London'\n",
      "    ent.start_char = 207\n",
      "    ent.end_char = 213\n",
      "    ent.label_ = 'GPE'\n",
      "    spacy.explain('GPE') = Countries, cities, states\n"
     ]
    }
   ],
   "source": [
    "#To perform NER using spacy on user input text\n",
    "import spacy\n",
    "nlp = spacy.load('en_core_web_sm')\n",
    "text = input(\"Enter the text: \")\n",
    "doc = nlp(text)\n",
    "for ent in doc.ents:\n",
    "    print(\n",
    "        f\"\"\"\n",
    "    {ent.text = }\n",
    "    {ent.start_char = }\n",
    "    {ent.end_char = }\n",
    "    {ent.label_ = }\n",
    "    spacy.explain('{ent.label_}') = {spacy.explain(ent.label_)}\"\"\"\n",
    "    )"
   ]
  },
  {
   "cell_type": "code",
   "execution_count": 8,
   "metadata": {},
   "outputs": [
    {
     "name": "stderr",
     "output_type": "stream",
     "text": [
      "c:\\Users\\Pradip\\anaconda3\\Lib\\site-packages\\spacy\\displacy\\__init__.py:106: UserWarning: [W011] It looks like you're calling displacy.serve from within a Jupyter notebook or a similar environment. This likely means you're already running a local web server, so there's no need to make displaCy start another one. Instead, you should be able to replace displacy.serve with displacy.render to show the visualization.\n",
      "  warnings.warn(Warnings.W011)\n"
     ]
    },
    {
     "data": {
      "text/html": [
       "<span class=\"tex2jax_ignore\"><!DOCTYPE html>\n",
       "<html lang=\"en\">\n",
       "    <head>\n",
       "        <title>displaCy</title>\n",
       "    </head>\n",
       "\n",
       "    <body style=\"font-size: 16px; font-family: -apple-system, BlinkMacSystemFont, 'Segoe UI', Helvetica, Arial, sans-serif, 'Apple Color Emoji', 'Segoe UI Emoji', 'Segoe UI Symbol'; padding: 4rem 2rem; direction: ltr\">\n",
       "<figure style=\"margin-bottom: 6rem\">\n",
       "<div class=\"entities\" style=\"line-height: 2.5; direction: ltr\">On \n",
       "<mark class=\"entity\" style=\"background: #bfe1d9; padding: 0.45em 0.6em; margin: 0 0.25em; line-height: 1; border-radius: 0.35em;\">\n",
       "    September 25, 2024\n",
       "    <span style=\"font-size: 0.8em; font-weight: bold; line-height: 1; border-radius: 0.35em; vertical-align: middle; margin-left: 0.5rem\">DATE</span>\n",
       "</mark>\n",
       ", \n",
       "<mark class=\"entity\" style=\"background: #7aecec; padding: 0.45em 0.6em; margin: 0 0.25em; line-height: 1; border-radius: 0.35em;\">\n",
       "    Apple Inc.\n",
       "    <span style=\"font-size: 0.8em; font-weight: bold; line-height: 1; border-radius: 0.35em; vertical-align: middle; margin-left: 0.5rem\">ORG</span>\n",
       "</mark>\n",
       " CEO \n",
       "<mark class=\"entity\" style=\"background: #aa9cfc; padding: 0.45em 0.6em; margin: 0 0.25em; line-height: 1; border-radius: 0.35em;\">\n",
       "    Tim Cook\n",
       "    <span style=\"font-size: 0.8em; font-weight: bold; line-height: 1; border-radius: 0.35em; vertical-align: middle; margin-left: 0.5rem\">PERSON</span>\n",
       "</mark>\n",
       " announced in \n",
       "<mark class=\"entity\" style=\"background: #feca74; padding: 0.45em 0.6em; margin: 0 0.25em; line-height: 1; border-radius: 0.35em;\">\n",
       "    San Francisco\n",
       "    <span style=\"font-size: 0.8em; font-weight: bold; line-height: 1; border-radius: 0.35em; vertical-align: middle; margin-left: 0.5rem\">GPE</span>\n",
       "</mark>\n",
       ", \n",
       "<mark class=\"entity\" style=\"background: #feca74; padding: 0.45em 0.6em; margin: 0 0.25em; line-height: 1; border-radius: 0.35em;\">\n",
       "    California\n",
       "    <span style=\"font-size: 0.8em; font-weight: bold; line-height: 1; border-radius: 0.35em; vertical-align: middle; margin-left: 0.5rem\">GPE</span>\n",
       "</mark>\n",
       ", a partnership with \n",
       "<mark class=\"entity\" style=\"background: #7aecec; padding: 0.45em 0.6em; margin: 0 0.25em; line-height: 1; border-radius: 0.35em;\">\n",
       "    Google\n",
       "    <span style=\"font-size: 0.8em; font-weight: bold; line-height: 1; border-radius: 0.35em; vertical-align: middle; margin-left: 0.5rem\">ORG</span>\n",
       "</mark>\n",
       " to develop \n",
       "<mark class=\"entity\" style=\"background: #7aecec; padding: 0.45em 0.6em; margin: 0 0.25em; line-height: 1; border-radius: 0.35em;\">\n",
       "    AI\n",
       "    <span style=\"font-size: 0.8em; font-weight: bold; line-height: 1; border-radius: 0.35em; vertical-align: middle; margin-left: 0.5rem\">ORG</span>\n",
       "</mark>\n",
       " technologies for the healthcare sector, starting with hospitals in \n",
       "<mark class=\"entity\" style=\"background: #feca74; padding: 0.45em 0.6em; margin: 0 0.25em; line-height: 1; border-radius: 0.35em;\">\n",
       "    New York\n",
       "    <span style=\"font-size: 0.8em; font-weight: bold; line-height: 1; border-radius: 0.35em; vertical-align: middle; margin-left: 0.5rem\">GPE</span>\n",
       "</mark>\n",
       " and \n",
       "<mark class=\"entity\" style=\"background: #feca74; padding: 0.45em 0.6em; margin: 0 0.25em; line-height: 1; border-radius: 0.35em;\">\n",
       "    London\n",
       "    <span style=\"font-size: 0.8em; font-weight: bold; line-height: 1; border-radius: 0.35em; vertical-align: middle; margin-left: 0.5rem\">GPE</span>\n",
       "</mark>\n",
       ".</div>\n",
       "</figure>\n",
       "</body>\n",
       "</html></span>"
      ],
      "text/plain": [
       "<IPython.core.display.HTML object>"
      ]
     },
     "metadata": {},
     "output_type": "display_data"
    },
    {
     "name": "stdout",
     "output_type": "stream",
     "text": [
      "\n",
      "Using the 'ent' visualizer\n",
      "Serving on http://0.0.0.0:5000 ...\n",
      "\n"
     ]
    }
   ],
   "source": [
    "from spacy import displacy\n",
    "displacy.serve(doc, style=\"ent\")"
   ]
  }
 ],
 "metadata": {
  "kernelspec": {
   "display_name": "base",
   "language": "python",
   "name": "python3"
  },
  "language_info": {
   "codemirror_mode": {
    "name": "ipython",
    "version": 3
   },
   "file_extension": ".py",
   "mimetype": "text/x-python",
   "name": "python",
   "nbconvert_exporter": "python",
   "pygments_lexer": "ipython3",
   "version": "3.11.7"
  }
 },
 "nbformat": 4,
 "nbformat_minor": 2
}
